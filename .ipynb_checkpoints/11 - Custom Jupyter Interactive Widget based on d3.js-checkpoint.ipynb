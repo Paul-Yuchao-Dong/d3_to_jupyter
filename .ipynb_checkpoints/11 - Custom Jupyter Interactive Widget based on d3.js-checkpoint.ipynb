{
 "cells": [
  {
   "cell_type": "code",
   "execution_count": 9,
   "metadata": {
    "collapsed": true
   },
   "outputs": [],
   "source": [
    "import ipywidgets as widgets\n",
    "from traitlets import Unicode, List, Int"
   ]
  },
  {
   "cell_type": "code",
   "execution_count": 62,
   "metadata": {
    "collapsed": false
   },
   "outputs": [
    {
     "data": {
      "text/plain": [
       "'7.0.0'"
      ]
     },
     "execution_count": 62,
     "metadata": {},
     "output_type": "execute_result"
    }
   ],
   "source": [
    "widgets.__version__"
   ]
  },
  {
   "cell_type": "markdown",
   "metadata": {},
   "source": [
    "# Example from http://bl.ocks.org/mbostock/4060366\n",
    "# The above link has changed to v4 saved a slightly modified version in the same folder as index.html\n",
    "http://bl.ocks.org/shawnbot/8059739"
   ]
  },
  {
   "cell_type": "code",
   "execution_count": 10,
   "metadata": {
    "collapsed": false
   },
   "outputs": [
    {
     "data": {
      "application/javascript": [
       "\n",
       "var s = document.createElement(\"style\");\n",
       "s.innerHTML = `\n",
       "body {\n",
       "  overflow: hidden;\n",
       "}\n",
       "\n",
       "path {\n",
       "      fill-opacity: .8;\n",
       "      stroke: #000;\n",
       "}\n",
       "\n",
       "path:first-child {\n",
       "  fill: yellow !important;\n",
       "}\n",
       "\n",
       "circle {\n",
       "      fill: #fff;\n",
       "      stroke: #000;\n",
       "      pointer-events: none;\n",
       "}\n",
       "\n",
       "    .PiYG .q0-9{fill:rgb(197,27,125)}\n",
       "    .PiYG .q1-9{fill:rgb(222,119,174)}\n",
       "    .PiYG .q2-9{fill:rgb(241,182,218)}\n",
       "    .PiYG .q3-9{fill:rgb(253,224,239)}\n",
       "    .PiYG .q4-9{fill:rgb(247,247,247)}\n",
       "    .PiYG .q5-9{fill:rgb(230,245,208)}\n",
       "    .PiYG .q6-9{fill:rgb(184,225,134)}\n",
       "    .PiYG .q7-9{fill:rgb(127,188,65)}\n",
       "    .PiYG .q8-9{fill:rgb(77,146,33)}\n",
       "`;\n",
       "\n",
       "var interpolate = document.createElement(\"select\");\n",
       "\n",
       "interpolate.id = \"interpolate\"\n",
       "\n",
       "interpolate.innerHTML = `\n",
       "<option>basis-closed</option>\n",
       "<option>linear</option>\n",
       "<option>basis</option>\n",
       "<option>cardinal-closed</option>\n",
       "<option>cardinal</option>\n",
       "<option>monotone</option>\n",
       "<option>step</option>\n",
       "<option>step-before</option>\n",
       "<option>step-after</option>\n",
       "`\n",
       "\n",
       "document.getElementsByTagName(\"head\")[0].appendChild(s);\n",
       "document.getElementsByTagName(\"body\")[0].appendChild(interpolate);"
      ],
      "text/plain": [
       "<IPython.core.display.Javascript object>"
      ]
     },
     "metadata": {},
     "output_type": "display_data"
    }
   ],
   "source": [
    "%%javascript\n",
    "\n",
    "var s = document.createElement(\"style\");\n",
    "s.innerHTML = `\n",
    "body {\n",
    "  overflow: hidden;\n",
    "}\n",
    "\n",
    "path {\n",
    "      fill-opacity: .8;\n",
    "      stroke: #000;\n",
    "}\n",
    "\n",
    "path:first-child {\n",
    "  fill: yellow !important;\n",
    "}\n",
    "\n",
    "circle {\n",
    "      fill: #fff;\n",
    "      stroke: #000;\n",
    "      pointer-events: none;\n",
    "}\n",
    "\n",
    "    .PiYG .q0-9{fill:rgb(197,27,125)}\n",
    "    .PiYG .q1-9{fill:rgb(222,119,174)}\n",
    "    .PiYG .q2-9{fill:rgb(241,182,218)}\n",
    "    .PiYG .q3-9{fill:rgb(253,224,239)}\n",
    "    .PiYG .q4-9{fill:rgb(247,247,247)}\n",
    "    .PiYG .q5-9{fill:rgb(230,245,208)}\n",
    "    .PiYG .q6-9{fill:rgb(184,225,134)}\n",
    "    .PiYG .q7-9{fill:rgb(127,188,65)}\n",
    "    .PiYG .q8-9{fill:rgb(77,146,33)}\n",
    "`;\n",
    "document.getElementsByTagName(\"head\")[0].appendChild(s);"
   ]
  },
  {
   "cell_type": "code",
   "execution_count": 11,
   "metadata": {
    "collapsed": true
   },
   "outputs": [],
   "source": [
    "class MyD3(widgets.DOMWidget):\n",
    "    _view_name = Unicode('D3View').tag(sync=True)\n",
    "    _view_module = Unicode('myd3').tag(sync=True)\n",
    "    width = Int().tag(sync=True)\n",
    "    height = Int().tag(sync=True)\n",
    "    vertices = List().tag(sync=True)"
   ]
  },
  {
   "cell_type": "code",
   "execution_count": 58,
   "metadata": {
    "collapsed": false
   },
   "outputs": [
    {
     "data": {
      "application/javascript": [
       "require.undef('myd3');\n",
       "\n",
       "define('myd3', [\"@jupyter-widgets/base\",\n",
       "                \"http://d3js.org/d3.v3.min.js\"], function(widgets, d3) {\n",
       "    \n",
       "    var D3View = widgets.DOMWidgetView.extend({\n",
       "        \n",
       "        render: function() {\n",
       "                      \n",
       "            var that = this;\n",
       "            \n",
       "            that.width = this.model.get('width');\n",
       "            that.height = this.model.get('height');\n",
       "            that.vertices = this.model.get('vertices');\n",
       "            \n",
       "            that.voronoi = d3.geom.voronoi()\n",
       "                .clipExtent([[0, 0], [that.width, that.height]]);\n",
       "\n",
       "            that.svg = d3.select(this.el).append(\"svg\")\n",
       "                .attr(\"width\", that.width)\n",
       "                .attr(\"height\", that.height)\n",
       "                .attr(\"class\", \"PiYG\")\n",
       "                .on(\"mousemove\", function() { \n",
       "                    that.vertices[0] = d3.mouse(this);\n",
       "                    that.redraw();\n",
       "                });\n",
       "            \n",
       "            that.path = that.svg.append(\"g\").selectAll(\"path\");\n",
       "            that.line = d3.svg.line();\n",
       "            \n",
       "            that.line.interpolate(\"linear\");\n",
       "\n",
       "            that.circle = that.svg.append(\"g\")\n",
       "                              .selectAll(\"circle\");\n",
       "            \n",
       "            that.svg.selectAll(\"circle\")\n",
       "                    .data(that.vertices.slice(1))\n",
       "                    .enter().append(\"circle\")\n",
       "                    .attr(\"transform\", function(d) { \n",
       "                            return \"translate(\" + d + \")\"; \n",
       "                            })\n",
       "                    .attr(\"r\", 2);\n",
       "\n",
       "            that.model.on('change:vertices', that.update_vertices, this);\n",
       "            that.redraw();\n",
       "        },\n",
       "        \n",
       "        update_vertices: function() {\n",
       "            this.redraw();\n",
       "        },\n",
       "        \n",
       "        redraw: function () {\n",
       "          this.vertices = this.model.get('vertices');\n",
       "\n",
       "          this.path = this.path\n",
       "                          .data(this.voronoi(this.vertices), String);\n",
       "          this.path.exit().remove();\n",
       "            \n",
       "          var that=this;\n",
       "            \n",
       "          this.path.enter().append(\"path\")\n",
       "              .attr(\"class\", function(d, i) { return \"q\" + (i % 9) + \"-9\"; })\n",
       "              .attr(\"d\", function(d){\n",
       "                return that.line(d)+'Z';\n",
       "          });\n",
       "          \n",
       "          this.path.order();   \n",
       "        },\n",
       "        \n",
       "    });\n",
       "    \n",
       "    return {\n",
       "        D3View : D3View\n",
       "    };\n",
       "});"
      ],
      "text/plain": [
       "<IPython.core.display.Javascript object>"
      ]
     },
     "metadata": {},
     "output_type": "display_data"
    }
   ],
   "source": [
    "%%javascript\n",
    "require.undef('myd3');\n",
    "\n",
    "define('myd3', [\"@jupyter-widgets/base\", //revised after upgrade to ipywidget 7.0s\n",
    "                \"http://d3js.org/d3.v3.min.js\"], function(widgets, d3) {\n",
    "    \n",
    "    var D3View = widgets.DOMWidgetView.extend({\n",
    "        \n",
    "        render: function() {\n",
    "                      \n",
    "            var that = this;\n",
    "            \n",
    "            that.width = this.model.get('width');\n",
    "            that.height = this.model.get('height');\n",
    "            that.vertices = this.model.get('vertices');\n",
    "            \n",
    "            that.voronoi = d3.geom.voronoi()\n",
    "                .clipExtent([[0, 0], [that.width, that.height]]);\n",
    "\n",
    "            that.svg = d3.select(this.el).append(\"svg\")\n",
    "                .attr(\"width\", that.width)\n",
    "                .attr(\"height\", that.height)\n",
    "                .attr(\"class\", \"PiYG\")\n",
    "                .on(\"mousemove\", function() { \n",
    "                    that.vertices[0] = d3.mouse(this);\n",
    "                    that.redraw();\n",
    "                });\n",
    "            \n",
    "            that.path = that.svg.append(\"g\").selectAll(\"path\");\n",
    "            that.line = d3.svg.line();\n",
    "            \n",
    "            that.line.interpolate(\"linear\");\n",
    "\n",
    "            that.circle = that.svg.append(\"g\")\n",
    "                              .selectAll(\"circle\");\n",
    "            \n",
    "            that.svg.selectAll(\"circle\")\n",
    "                    .data(that.vertices.slice(1))\n",
    "                    .enter().append(\"circle\")\n",
    "                    .attr(\"transform\", function(d) { \n",
    "                            return \"translate(\" + d + \")\"; \n",
    "                            })\n",
    "                    .attr(\"r\", 2);\n",
    "\n",
    "            that.model.on('change:vertices', that.update_vertices, this);\n",
    "            that.redraw();\n",
    "        },\n",
    "        \n",
    "        update_vertices: function() {\n",
    "            this.redraw();\n",
    "        },\n",
    "        \n",
    "        redraw: function () {\n",
    "          this.vertices = this.model.get('vertices');\n",
    "\n",
    "          this.path = this.path\n",
    "                          .data(this.voronoi(this.vertices), String);\n",
    "          this.path.exit().remove();\n",
    "            \n",
    "          var that=this;\n",
    "            \n",
    "          this.path.enter().append(\"path\")\n",
    "              .attr(\"class\", function(d, i) { return \"q\" + (i % 9) + \"-9\"; })\n",
    "              .attr(\"d\", function(d){\n",
    "                return that.line(d)+'Z';\n",
    "          });\n",
    "          \n",
    "          this.path.order();   \n",
    "        },\n",
    "        \n",
    "    });\n",
    "    \n",
    "    return {\n",
    "        D3View : D3View\n",
    "    };\n",
    "});"
   ]
  },
  {
   "cell_type": "code",
   "execution_count": 59,
   "metadata": {
    "collapsed": false
   },
   "outputs": [
    {
     "data": {
      "application/vnd.jupyter.widget-view+json": {
       "model_id": "8d04830981484033bb406633545e9f03",
       "version_major": 2,
       "version_minor": 0
      },
      "text/plain": [
       "A Jupyter Widget"
      ]
     },
     "metadata": {},
     "output_type": "display_data"
    }
   ],
   "source": [
    "import numpy as np\n",
    "sample_size = 100\n",
    "width = 750\n",
    "height = 300\n",
    "\n",
    "m = MyD3(vertices=(np.random.rand(sample_size, 2) * np.array([width, height])).tolist(),\n",
    "     height=height, width=width)\n",
    "m"
   ]
  },
  {
   "cell_type": "code",
   "execution_count": 60,
   "metadata": {
    "collapsed": true
   },
   "outputs": [],
   "source": [
    "m.vertices = (np.random.rand(sample_size, 2) * np.array([width, height])).tolist()"
   ]
  },
  {
   "cell_type": "code",
   "execution_count": null,
   "metadata": {
    "collapsed": true
   },
   "outputs": [],
   "source": []
  }
 ],
 "metadata": {
  "kernelspec": {
   "display_name": "Python [default]",
   "language": "python",
   "name": "python3"
  },
  "language_info": {
   "codemirror_mode": {
    "name": "ipython",
    "version": 3
   },
   "file_extension": ".py",
   "mimetype": "text/x-python",
   "name": "python",
   "nbconvert_exporter": "python",
   "pygments_lexer": "ipython3",
   "version": "3.5.2"
  },
  "toc": {
   "nav_menu": {},
   "number_sections": true,
   "sideBar": true,
   "skip_h1_title": false,
   "toc_cell": false,
   "toc_position": {},
   "toc_section_display": "block",
   "toc_window_display": false
  },
  "varInspector": {
   "cols": {
    "lenName": 16,
    "lenType": 16,
    "lenVar": 40
   },
   "kernels_config": {
    "python": {
     "delete_cmd_postfix": "",
     "delete_cmd_prefix": "del ",
     "library": "var_list.py",
     "varRefreshCmd": "print(var_dic_list())"
    },
    "r": {
     "delete_cmd_postfix": ") ",
     "delete_cmd_prefix": "rm(",
     "library": "var_list.r",
     "varRefreshCmd": "cat(var_dic_list()) "
    }
   },
   "types_to_exclude": [
    "module",
    "function",
    "builtin_function_or_method",
    "instance",
    "_Feature"
   ],
   "window_display": false
  },
  "widgets": {
   "state": {
    "db0f15e2a3eb4e6e8f182bdfc1ab09f1": {
     "views": [
      {
       "cell_index": 5
      }
     ]
    }
   },
   "version": "2.0.0-dev"
  }
 },
 "nbformat": 4,
 "nbformat_minor": 1
}
