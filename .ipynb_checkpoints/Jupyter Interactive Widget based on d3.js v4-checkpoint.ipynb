{
 "cells": [
  {
   "cell_type": "code",
   "execution_count": 1,
   "metadata": {
    "collapsed": true
   },
   "outputs": [],
   "source": [
    "import ipywidgets as widgets\n",
    "from traitlets import Unicode, List, Int"
   ]
  },
  {
   "cell_type": "code",
   "execution_count": 2,
   "metadata": {
    "collapsed": false
   },
   "outputs": [
    {
     "data": {
      "text/plain": [
       "'7.0.0'"
      ]
     },
     "execution_count": 2,
     "metadata": {},
     "output_type": "execute_result"
    }
   ],
   "source": [
    "widgets.__version__"
   ]
  },
  {
   "cell_type": "markdown",
   "metadata": {},
   "source": [
    "# Example from http://bl.ocks.org/mbostock/4060366\n",
    "# The above link has changed to v4 saved a slightly modified version in the same folder as index.html\n",
    "http://bl.ocks.org/shawnbot/8059739"
   ]
  },
  {
   "cell_type": "code",
   "execution_count": 3,
   "metadata": {
    "collapsed": false
   },
   "outputs": [
    {
     "data": {
      "application/javascript": [
       "\n",
       "var s = document.createElement(\"style\");\n",
       "s.innerHTML = `\n",
       ".links {\n",
       "  stroke: #000;\n",
       "  stroke-opacity: 0.2;\n",
       "}\n",
       "\n",
       ".polygons {\n",
       "  fill: none;\n",
       "  stroke: #000;\n",
       "}\n",
       "\n",
       ".polygons :first-child {\n",
       "  fill: #f00;\n",
       "}\n",
       "\n",
       ".sites {\n",
       "  fill: #000;\n",
       "  stroke: #fff;\n",
       "}\n",
       "\n",
       ".sites :first-child {\n",
       "  fill: #fff;\n",
       "}\n",
       "`;\n",
       "document.getElementsByTagName(\"head\")[0].appendChild(s);"
      ],
      "text/plain": [
       "<IPython.core.display.Javascript object>"
      ]
     },
     "metadata": {},
     "output_type": "display_data"
    }
   ],
   "source": [
    "%%javascript\n",
    "\n",
    "var s = document.createElement(\"style\");\n",
    "s.innerHTML = `\n",
    ".links {\n",
    "  stroke: #000;\n",
    "  stroke-opacity: 0.2;\n",
    "}\n",
    "\n",
    ".polygons {\n",
    "  fill: none;\n",
    "  stroke: #000;\n",
    "}\n",
    "\n",
    ".polygons :first-child {\n",
    "  fill: #f00;\n",
    "}\n",
    "\n",
    ".sites {\n",
    "  fill: #000;\n",
    "  stroke: #fff;\n",
    "}\n",
    "\n",
    ".sites :first-child {\n",
    "  fill: #fff;\n",
    "}\n",
    "`;\n",
    "document.getElementsByTagName(\"head\")[0].appendChild(s);"
   ]
  },
  {
   "cell_type": "code",
   "execution_count": 4,
   "metadata": {
    "collapsed": true
   },
   "outputs": [],
   "source": [
    "class MyD3(widgets.DOMWidget):\n",
    "    _view_name = Unicode('D3View').tag(sync=True)\n",
    "    _view_module = Unicode('myd3').tag(sync=True)\n",
    "    width = Int().tag(sync=True)\n",
    "    height = Int().tag(sync=True)\n",
    "    vertices = List().tag(sync=True)"
   ]
  },
  {
   "cell_type": "code",
   "execution_count": 5,
   "metadata": {
    "collapsed": false
   },
   "outputs": [
    {
     "data": {
      "application/javascript": [
       "require.undef('myd3');\n",
       "\n",
       "define('myd3', [\"@jupyter-widgets/base\", //revised after upgrade to ipywidget 7.0s\n",
       "                \"https://d3js.org/d3.v4.min.js\"], function(widgets, d3) {\n",
       "\n",
       "    var D3View = widgets.DOMWidgetView.extend({\n",
       "\n",
       "        render: function() {\n",
       "\n",
       "            var that = this;\n",
       "\n",
       "            var width = this.model.get('width'),\n",
       "                height = this.model.get('height');\n",
       "\n",
       "            that.sites = this.model.get('vertices');             \n",
       "            that.svg = d3.select(this.el).append(\"svg\")\n",
       "                                         .attr(\"width\", width)\n",
       "                                         .attr(\"height\", height)\n",
       "                                         .on(\"touchmove mousemove\", function(){\n",
       "                                                                        that.sites[0] = d3.mouse(this); \n",
       "                                                                        that.redraw();\n",
       "                                                                            });\n",
       "\n",
       "\n",
       "            that.voronoi = d3.voronoi().extent([[-1, -1], [width + 1, height + 1]]);\n",
       "            that.polygon = that.svg.append(\"g\")\n",
       "                                    .attr(\"class\", \"polygons\")\n",
       "                                  .selectAll(\"path\")\n",
       "                                  .data(that.voronoi.polygons(that.sites))\n",
       "                                  .enter().append(\"path\")\n",
       "                                    .call(that.redrawPolygon);\n",
       "\n",
       "            that.link = that.svg.append(\"g\")\n",
       "                                .attr(\"class\", \"links\")\n",
       "                              .selectAll(\"line\")\n",
       "                              .data(that.voronoi.links(that.sites))\n",
       "                              .enter().append(\"line\")\n",
       "                                .call(that.redrawLink);\n",
       "\n",
       "            that.site = that.svg.append(\"g\")\n",
       "                                .attr(\"class\", \"sites\")\n",
       "                              .selectAll(\"circle\")\n",
       "                              .data(that.sites)\n",
       "                              .enter().append(\"circle\")\n",
       "                                .attr(\"r\", 2.5)\n",
       "                                .call(that.redrawSite);            \n",
       "            that.model.on('change:vertices', that.redraw, this);\n",
       "            that.redraw();\n",
       "        },\n",
       "\n",
       "        redraw: function() {\n",
       "          this.sites = this.model.get('vertices');\n",
       "          var diagram = this.voronoi(this.sites);\n",
       "          this.polygon = this.polygon.data(diagram.polygons()).call(this.redrawPolygon);\n",
       "          this.link = this.link.data(diagram.links());\n",
       "          this.link.exit().remove();\n",
       "          this.link = this.link.enter().append(\"line\").merge(this.link).call(this.redrawLink);\n",
       "          this.site = this.site.data(this.sites).call(this.redrawSite);\n",
       "        },\n",
       "\n",
       "        redrawPolygon: function(polygon) {\n",
       "          polygon\n",
       "              .attr(\"d\", function(d) { return d ? \"M\" + d.join(\"L\") + \"Z\" : null; });\n",
       "        },\n",
       "\n",
       "        redrawLink: function(link) {\n",
       "          link\n",
       "              .attr(\"x1\", function(d) { return d.source[0]; })\n",
       "              .attr(\"y1\", function(d) { return d.source[1]; })\n",
       "              .attr(\"x2\", function(d) { return d.target[0]; })\n",
       "              .attr(\"y2\", function(d) { return d.target[1]; });\n",
       "        },\n",
       "        redrawSite: function(site) {\n",
       "          site\n",
       "              .attr(\"cx\", function(d) { return d[0]; })\n",
       "              .attr(\"cy\", function(d) { return d[1]; });\n",
       "        }\n",
       "\n",
       "    });\n",
       "\n",
       "    return {\n",
       "        D3View : D3View\n",
       "    };\n",
       "});"
      ],
      "text/plain": [
       "<IPython.core.display.Javascript object>"
      ]
     },
     "metadata": {},
     "output_type": "display_data"
    }
   ],
   "source": [
    "%%javascript\n",
    "require.undef('myd3');\n",
    "\n",
    "define('myd3', [\"@jupyter-widgets/base\", //revised after upgrade to ipywidget 7.0s\n",
    "                \"https://d3js.org/d3.v4.min.js\"], function(widgets, d3) {\n",
    "\n",
    "    var D3View = widgets.DOMWidgetView.extend({\n",
    "\n",
    "        render: function() {\n",
    "\n",
    "            var that = this;\n",
    "\n",
    "            var width = this.model.get('width'),\n",
    "                height = this.model.get('height');\n",
    "\n",
    "            that.sites = this.model.get('vertices');             \n",
    "            that.svg = d3.select(this.el).append(\"svg\")\n",
    "                                         .attr(\"width\", width)\n",
    "                                         .attr(\"height\", height)\n",
    "                                         .on(\"touchmove mousemove\", function(){\n",
    "                                                                        that.sites[0] = d3.mouse(this); \n",
    "                                                                        that.redraw();\n",
    "                                                                            });\n",
    "\n",
    "\n",
    "            that.voronoi = d3.voronoi().extent([[-1, -1], [width + 1, height + 1]]);\n",
    "            that.polygon = that.svg.append(\"g\")\n",
    "                                    .attr(\"class\", \"polygons\")\n",
    "                                  .selectAll(\"path\")\n",
    "                                  .data(that.voronoi.polygons(that.sites))\n",
    "                                  .enter().append(\"path\")\n",
    "                                    .call(that.redrawPolygon);\n",
    "\n",
    "            that.link = that.svg.append(\"g\")\n",
    "                                .attr(\"class\", \"links\")\n",
    "                              .selectAll(\"line\")\n",
    "                              .data(that.voronoi.links(that.sites))\n",
    "                              .enter().append(\"line\")\n",
    "                                .call(that.redrawLink);\n",
    "\n",
    "            that.site = that.svg.append(\"g\")\n",
    "                                .attr(\"class\", \"sites\")\n",
    "                              .selectAll(\"circle\")\n",
    "                              .data(that.sites)\n",
    "                              .enter().append(\"circle\")\n",
    "                                .attr(\"r\", 2.5)\n",
    "                                .call(that.redrawSite);            \n",
    "            that.model.on('change:vertices', that.redraw, this);\n",
    "            that.redraw();\n",
    "        },\n",
    "\n",
    "        redraw: function() {\n",
    "          this.sites = this.model.get('vertices');\n",
    "          var diagram = this.voronoi(this.sites);\n",
    "          this.polygon = this.polygon.data(diagram.polygons()).call(this.redrawPolygon);\n",
    "          this.link = this.link.data(diagram.links());\n",
    "          this.link.exit().remove();\n",
    "          this.link = this.link.enter().append(\"line\").merge(this.link).call(this.redrawLink);\n",
    "          this.site = this.site.data(this.sites).call(this.redrawSite);\n",
    "        },\n",
    "\n",
    "        redrawPolygon: function(polygon) {\n",
    "          polygon\n",
    "              .attr(\"d\", function(d) { return d ? \"M\" + d.join(\"L\") + \"Z\" : null; });\n",
    "        },\n",
    "\n",
    "        redrawLink: function(link) {\n",
    "          link\n",
    "              .attr(\"x1\", function(d) { return d.source[0]; })\n",
    "              .attr(\"y1\", function(d) { return d.source[1]; })\n",
    "              .attr(\"x2\", function(d) { return d.target[0]; })\n",
    "              .attr(\"y2\", function(d) { return d.target[1]; });\n",
    "        },\n",
    "        redrawSite: function(site) {\n",
    "          site\n",
    "              .attr(\"cx\", function(d) { return d[0]; })\n",
    "              .attr(\"cy\", function(d) { return d[1]; });\n",
    "        }\n",
    "\n",
    "    });\n",
    "\n",
    "    return {\n",
    "        D3View : D3View\n",
    "    };\n",
    "});"
   ]
  },
  {
   "cell_type": "code",
   "execution_count": 6,
   "metadata": {
    "collapsed": false
   },
   "outputs": [
    {
     "data": {
      "application/vnd.jupyter.widget-view+json": {
       "model_id": "b23760ed3a174ff0a0b357de11d0cac5",
       "version_major": 2,
       "version_minor": 0
      },
      "text/plain": [
       "A Jupyter Widget"
      ]
     },
     "metadata": {},
     "output_type": "display_data"
    }
   ],
   "source": [
    "import numpy as np\n",
    "sample_size = 100\n",
    "width = 750\n",
    "height = 300\n",
    "\n",
    "m = MyD3(vertices=(np.random.rand(sample_size, 2) * np.array([width, height])).tolist(),\n",
    "     height=height, width=width)\n",
    "m"
   ]
  },
  {
   "cell_type": "code",
   "execution_count": 7,
   "metadata": {
    "collapsed": true
   },
   "outputs": [],
   "source": [
    "m.vertices = (np.random.rand(sample_size, 2) * np.array([width, height])).tolist()"
   ]
  },
  {
   "cell_type": "code",
   "execution_count": null,
   "metadata": {
    "collapsed": true
   },
   "outputs": [],
   "source": []
  },
  {
   "cell_type": "code",
   "execution_count": null,
   "metadata": {
    "collapsed": true
   },
   "outputs": [],
   "source": []
  }
 ],
 "metadata": {
  "kernelspec": {
   "display_name": "Python [default]",
   "language": "python",
   "name": "python3"
  },
  "language_info": {
   "codemirror_mode": {
    "name": "ipython",
    "version": 3
   },
   "file_extension": ".py",
   "mimetype": "text/x-python",
   "name": "python",
   "nbconvert_exporter": "python",
   "pygments_lexer": "ipython3",
   "version": "3.5.2"
  },
  "toc": {
   "nav_menu": {},
   "number_sections": true,
   "sideBar": true,
   "skip_h1_title": false,
   "toc_cell": false,
   "toc_position": {},
   "toc_section_display": "block",
   "toc_window_display": false
  },
  "varInspector": {
   "cols": {
    "lenName": 16,
    "lenType": 16,
    "lenVar": 40
   },
   "kernels_config": {
    "python": {
     "delete_cmd_postfix": "",
     "delete_cmd_prefix": "del ",
     "library": "var_list.py",
     "varRefreshCmd": "print(var_dic_list())"
    },
    "r": {
     "delete_cmd_postfix": ") ",
     "delete_cmd_prefix": "rm(",
     "library": "var_list.r",
     "varRefreshCmd": "cat(var_dic_list()) "
    }
   },
   "types_to_exclude": [
    "module",
    "function",
    "builtin_function_or_method",
    "instance",
    "_Feature"
   ],
   "window_display": false
  },
  "widgets": {
   "application/vnd.jupyter.widget-state+json": {
    "state": {
     "b23760ed3a174ff0a0b357de11d0cac5": {
      "model_module": "@jupyter-widgets/base",
      "model_module_version": "1.0.0",
      "model_name": "DOMWidgetModel",
      "state": {
       "_model_name": "DOMWidgetModel",
       "_view_module": "myd3",
       "_view_module_version": "",
       "_view_name": "D3View",
       "height": 300,
       "layout": "IPY_MODEL_ee13f8e32ae24ab89843cb8077bd6d91",
       "vertices": [
        [
         737.65625,
         96.97916412353516
        ],
        [
         180.6181715140644,
         161.143506137612
        ],
        [
         342.6069474089928,
         7.3271368992942065
        ],
        [
         428.050027507683,
         210.35849350871257
        ],
        [
         655.1968949163739,
         273.4884856139617
        ],
        [
         312.1619516372291,
         221.2787561229153
        ],
        [
         235.07211505815417,
         155.40191227225546
        ],
        [
         624.809788204125,
         234.2131489346363
        ],
        [
         115.79063348436256,
         74.97214495386966
        ],
        [
         12.510250995862782,
         222.90830993221292
        ],
        [
         736.0567720354788,
         23.956128112023922
        ],
        [
         731.2833337287102,
         73.28173825968169
        ],
        [
         341.5157164446888,
         79.0420741310028
        ],
        [
         675.5584069832887,
         153.4231491517927
        ],
        [
         524.4028756989073,
         23.20390282756597
        ],
        [
         617.763286042034,
         109.94042859852003
        ],
        [
         362.2725496340856,
         252.57256567825627
        ],
        [
         214.67601655169884,
         176.52708577779683
        ],
        [
         65.8001346013952,
         9.469702552678584
        ],
        [
         4.790270548440639,
         5.451609484010733
        ],
        [
         349.2632567037405,
         190.21989768838083
        ],
        [
         135.4373780128312,
         110.31688788705569
        ],
        [
         172.0846265539675,
         60.83285447058233
        ],
        [
         593.833519927346,
         88.7179136080336
        ],
        [
         653.9145017180364,
         35.59585173521703
        ],
        [
         76.31582410693197,
         158.5246741205923
        ],
        [
         437.16698962183153,
         17.69625162022288
        ],
        [
         281.79603357789875,
         299.58344999369933
        ],
        [
         598.314479244828,
         75.72885772640441
        ],
        [
         37.843693558050006,
         129.4358657015595
        ],
        [
         226.1135264971791,
         119.31973655715888
        ],
        [
         129.7382093808327,
         216.06884129220944
        ],
        [
         725.7492786337209,
         77.41556978867864
        ],
        [
         277.85592859707486,
         8.877886419840364
        ],
        [
         496.6435903095425,
         120.81303032673037
        ],
        [
         560.6546370654994,
         102.85044078603566
        ],
        [
         124.30611856931226,
         162.60445862222625
        ],
        [
         419.7819919094241,
         217.99462835111987
        ],
        [
         732.1994967699843,
         46.48407020977729
        ],
        [
         0.7574341429755493,
         48.33632810730827
        ],
        [
         48.61963980582237,
         256.4614944580698
        ],
        [
         7.55210850212773,
         270.2347982746057
        ],
        [
         206.52383186723688,
         218.5268786287087
        ],
        [
         23.143472149429105,
         80.76639026049163
        ],
        [
         513.1911776700775,
         19.413293166789792
        ],
        [
         87.58357580501855,
         44.9077659156944
        ],
        [
         490.68462033886215,
         213.2024585119197
        ],
        [
         301.1311181529732,
         68.33274619329387
        ],
        [
         447.166020654384,
         173.98682213298122
        ],
        [
         489.18233143779344,
         27.611691125403603
        ],
        [
         394.6904339551619,
         200.82287036715252
        ],
        [
         748.2544754809303,
         179.0390125548109
        ],
        [
         254.24734788188437,
         59.438566101002245
        ],
        [
         396.1489813226648,
         51.10477979567979
        ],
        [
         34.89023333691055,
         66.9000247667978
        ],
        [
         518.6845419230359,
         112.16299187418194
        ],
        [
         626.698164570881,
         251.59764100206786
        ],
        [
         13.404032309546537,
         299.7812406094462
        ],
        [
         466.40660921878055,
         31.66000408986932
        ],
        [
         666.9996375598014,
         66.90009619549583
        ],
        [
         81.16105888058541,
         230.897979488869
        ],
        [
         432.0378586791038,
         24.671397280512842
        ],
        [
         500.539815149716,
         124.96686593112656
        ],
        [
         441.85497277413754,
         66.21138617593857
        ],
        [
         220.9018310049807,
         1.652451466317395
        ],
        [
         223.68850974623305,
         235.39113120404582
        ],
        [
         84.23541607669013,
         36.52049396720245
        ],
        [
         402.7947486007844,
         162.54131614341537
        ],
        [
         517.3160962737805,
         28.59976744971312
        ],
        [
         536.6511414011198,
         43.837610363172686
        ],
        [
         647.0840516566693,
         157.66114569569882
        ],
        [
         332.7996197624834,
         244.52804664705127
        ],
        [
         360.18617421752526,
         113.611822458648
        ],
        [
         49.47903089209024,
         285.32034661981703
        ],
        [
         194.58151343137857,
         78.52578363498225
        ],
        [
         299.3886573782226,
         38.09445959799259
        ],
        [
         478.40464612663584,
         270.03770457374856
        ],
        [
         383.5078896378491,
         90.07453403466113
        ],
        [
         113.31018404570284,
         113.60842965403711
        ],
        [
         679.1056377942945,
         161.599260199614
        ],
        [
         601.6335189405441,
         7.183945018177407
        ],
        [
         285.55798809630136,
         254.7795334015609
        ],
        [
         444.63326956483434,
         124.07719296803462
        ],
        [
         685.5845730513445,
         265.2392062295928
        ],
        [
         253.91097964919476,
         42.8639749707403
        ],
        [
         150.00667398265992,
         50.460577998231216
        ],
        [
         342.25825511848717,
         3.797564495743211
        ],
        [
         325.73376710723846,
         33.61317629095861
        ],
        [
         204.75909865667785,
         284.7860406348441
        ],
        [
         132.6623311537087,
         193.218625883822
        ],
        [
         46.305552500185534,
         257.7746595055574
        ],
        [
         157.53248338367263,
         141.00636734862837
        ],
        [
         179.55715375431197,
         116.94619146296887
        ],
        [
         145.05135790224242,
         11.626794573831257
        ],
        [
         703.1344621707455,
         187.93050940385854
        ],
        [
         34.1583724552903,
         197.86435491979736
        ],
        [
         202.95866100594463,
         295.325210734847
        ],
        [
         216.0526219130637,
         198.1525429728929
        ],
        [
         621.9952481639501,
         276.54039676390073
        ],
        [
         191.30863344991522,
         215.3484346214056
        ]
       ],
       "width": 750
      }
     },
     "ee13f8e32ae24ab89843cb8077bd6d91": {
      "model_module": "@jupyter-widgets/base",
      "model_module_version": "1.0.0",
      "model_name": "LayoutModel",
      "state": {}
     }
    },
    "version_major": 2,
    "version_minor": 0
   }
  }
 },
 "nbformat": 4,
 "nbformat_minor": 1
}
