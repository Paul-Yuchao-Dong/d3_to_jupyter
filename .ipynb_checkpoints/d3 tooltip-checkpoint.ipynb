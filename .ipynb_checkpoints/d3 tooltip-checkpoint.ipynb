{
 "cells": [
  {
   "cell_type": "code",
   "execution_count": 1,
   "metadata": {
    "collapsed": true
   },
   "outputs": [],
   "source": [
    "from IPython.core.display import HTML\n",
    "import d3_lib"
   ]
  },
  {
   "cell_type": "code",
   "execution_count": 2,
   "metadata": {
    "collapsed": false
   },
   "outputs": [
    {
     "data": {
      "text/html": [
       "<style>.axis path,\n",
       ".axis line {\n",
       "  fill: none;\n",
       "  stroke: #000;\n",
       "  shape-rendering: crispEdges;\n",
       "}\n",
       "\n",
       ".bar {\n",
       "  fill: orange;\n",
       "}\n",
       "\n",
       ".bar:hover {\n",
       "  fill: orangered ;\n",
       "}\n",
       "\n",
       ".x.axis path {\n",
       "  display: none;\n",
       "}\n",
       "\n",
       ".d3-tip {\n",
       "  line-height: 1;\n",
       "  font-weight: bold;\n",
       "  padding: 12px;\n",
       "  background: rgba(0, 0, 0, 0.8);\n",
       "  color: #fff;\n",
       "  border-radius: 2px;\n",
       "}\n",
       "\n",
       "/* Creates a small triangle extender for the tooltip */\n",
       ".d3-tip:after {\n",
       "  box-sizing: border-box;\n",
       "  display: inline;\n",
       "  font-size: 10px;\n",
       "  width: 100%;\n",
       "  line-height: 1;\n",
       "  color: rgba(0, 0, 0, 0.8);\n",
       "  content: \"\\25BC\";\n",
       "  position: absolute;\n",
       "  text-align: center;\n",
       "}\n",
       "\n",
       "/* Style northward tooltips differently */\n",
       ".d3-tip.n:after {\n",
       "  margin: -1px 0 0 0;\n",
       "  top: 100%;\n",
       "  left: 0;\n",
       "}</style>"
      ],
      "text/plain": [
       "<IPython.core.display.HTML object>"
      ]
     },
     "execution_count": 2,
     "metadata": {},
     "output_type": "execute_result"
    }
   ],
   "source": [
    "HTML(d3_lib.set_styles(\"tooltip\"))"
   ]
  },
  {
   "cell_type": "code",
   "execution_count": 3,
   "metadata": {
    "collapsed": false
   },
   "outputs": [
    {
     "data": {
      "text/html": [
       "<script src=\"http://d3js.org/d3.v3.min.js\"></script>"
      ],
      "text/plain": [
       "<IPython.core.display.HTML object>"
      ]
     },
     "execution_count": 3,
     "metadata": {},
     "output_type": "execute_result"
    }
   ],
   "source": [
    "HTML('<script src=\"http://d3js.org/d3.v3.min.js\"></script>')\n",
    "\n",
    "HTML('<script src=\"http://labratrevenge.com/d3-tip/javascripts/d3.tip.v0.6.3.js\"></script>')"
   ]
  },
  {
   "cell_type": "markdown",
   "metadata": {},
   "source": [
    "### Prepare data"
   ]
  },
  {
   "cell_type": "code",
   "execution_count": 5,
   "metadata": {
    "collapsed": true
   },
   "outputs": [],
   "source": [
    "import pandas as pd"
   ]
  },
  {
   "cell_type": "code",
   "execution_count": 6,
   "metadata": {
    "collapsed": true
   },
   "outputs": [],
   "source": [
    "data=pd.read_table(\"data.tsv\")"
   ]
  },
  {
   "cell_type": "code",
   "execution_count": 8,
   "metadata": {
    "collapsed": false
   },
   "outputs": [
    {
     "data": {
      "text/html": [
       "\n",
       "    \n",
       "                <div id='maindiv5699420095'></div>\n",
       "                \n",
       "                <script>\n",
       "                    // http://bl.ocks.org/Caged/6476579\n",
       "\n",
       "var margin = {top: 40, right: 20, bottom: 30, left: 40},\n",
       "    width = 960 - margin.left - margin.right,\n",
       "    height = 500 - margin.top - margin.bottom;\n",
       "\n",
       "var formatPercent = d3.format(\".0%\");\n",
       "\n",
       "var x = d3.scale.ordinal()\n",
       "    .rangeRoundBands([0, width], .1);\n",
       "\n",
       "var y = d3.scale.linear()\n",
       "    .range([height, 0]);\n",
       "\n",
       "var xAxis = d3.svg.axis()\n",
       "    .scale(x)\n",
       "    .orient(\"bottom\");\n",
       "\n",
       "var yAxis = d3.svg.axis()\n",
       "    .scale(y)\n",
       "    .orient(\"left\")\n",
       "    .tickFormat(formatPercent);\n",
       "\n",
       "var tip = d3.tip()\n",
       "  .attr('class', 'd3-tip')\n",
       "  .offset([-10, 0])\n",
       "  .html(function(d) {\n",
       "    return \"<strong>Frequency:</strong> <span style='color:red'>\" + d.frequency + \"</span>\";\n",
       "  })\n",
       "\n",
       "d3.select(\"#maindiv5699420095\").selectAll(\"svg\").remove();\n",
       "\n",
       "var svg = d3.select(\"#maindiv5699420095\").append(\"svg\")\n",
       "    .attr(\"width\", width + margin.left + margin.right)\n",
       "    .attr(\"height\", height + margin.top + margin.bottom)\n",
       "  .append(\"g\")\n",
       "    .attr(\"transform\", \"translate(\" + margin.left + \",\" + margin.top + \")\");\n",
       "\n",
       "svg.call(tip);\n",
       "\n",
       "//d3.tsv(\"data.tsv\", type, function(error, data) {\n",
       "\n",
       "var data = [{\"letter\":\"A\",\"frequency\":0.08167},{\"letter\":\"B\",\"frequency\":0.01492},{\"letter\":\"C\",\"frequency\":0.02782},{\"letter\":\"D\",\"frequency\":0.04253},{\"letter\":\"E\",\"frequency\":0.12702},{\"letter\":\"F\",\"frequency\":0.02288},{\"letter\":\"G\",\"frequency\":0.02015},{\"letter\":\"H\",\"frequency\":0.06094},{\"letter\":\"I\",\"frequency\":0.06966},{\"letter\":\"J\",\"frequency\":0.00153},{\"letter\":\"K\",\"frequency\":0.00772},{\"letter\":\"L\",\"frequency\":0.04025},{\"letter\":\"M\",\"frequency\":0.02406},{\"letter\":\"N\",\"frequency\":0.06749},{\"letter\":\"O\",\"frequency\":0.07507},{\"letter\":\"P\",\"frequency\":0.01929},{\"letter\":\"Q\",\"frequency\":0.00095},{\"letter\":\"R\",\"frequency\":0.05987},{\"letter\":\"S\",\"frequency\":0.06327},{\"letter\":\"T\",\"frequency\":0.09056},{\"letter\":\"U\",\"frequency\":0.02758},{\"letter\":\"V\",\"frequency\":0.00978},{\"letter\":\"W\",\"frequency\":0.0236},{\"letter\":\"X\",\"frequency\":0.0015},{\"letter\":\"Y\",\"frequency\":0.01974},{\"letter\":\"Z\",\"frequency\":0.00074}];\n",
       "\n",
       "x.domain(data.map(function(d) { return d.letter; }));\n",
       "y.domain([0, d3.max(data, function(d) { return d.frequency; })]);\n",
       "\n",
       "svg.append(\"g\")\n",
       "    .attr(\"class\", \"x axis\")\n",
       "    .attr(\"transform\", \"translate(0,\" + height + \")\")\n",
       "    .call(xAxis);\n",
       "\n",
       "svg.append(\"g\")\n",
       "    .attr(\"class\", \"y axis\")\n",
       "    .call(yAxis)\n",
       ".append(\"text\")\n",
       "    .attr(\"transform\", \"rotate(-90)\")\n",
       "    .attr(\"y\", 6)\n",
       "    .attr(\"dy\", \".71em\")\n",
       "    .style(\"text-anchor\", \"end\")\n",
       "    .text(\"Frequency\");\n",
       "\n",
       "svg.selectAll(\".bar\")\n",
       "    .data(data)\n",
       ".enter().append(\"rect\")\n",
       "    .attr(\"class\", \"bar\")\n",
       "    .attr(\"x\", function(d) { return x(d.letter); })\n",
       "    .attr(\"width\", x.rangeBand())\n",
       "    .attr(\"y\", function(d) { return y(d.frequency); })\n",
       "    .attr(\"height\", function(d) { return height - y(d.frequency); })\n",
       "    .on('mouseover', tip.show)\n",
       "    .on('mouseout', tip.hide);\n",
       "\n",
       "//});\n",
       "\n",
       "function type(d) {\n",
       "  d.frequency = +d.frequency;\n",
       "  return d;\n",
       "}\n",
       "                </script>\n",
       "\n",
       "                "
      ],
      "text/plain": [
       "<IPython.core.display.HTML object>"
      ]
     },
     "execution_count": 8,
     "metadata": {},
     "output_type": "execute_result"
    }
   ],
   "source": [
    "HTML(d3_lib.draw_graph('tooltip',{'data': data.to_json(orient=\"records\")}))"
   ]
  },
  {
   "cell_type": "code",
   "execution_count": null,
   "metadata": {
    "collapsed": true
   },
   "outputs": [],
   "source": []
  }
 ],
 "metadata": {
  "kernelspec": {
   "display_name": "Python [default]",
   "language": "python",
   "name": "python3"
  },
  "language_info": {
   "codemirror_mode": {
    "name": "ipython",
    "version": 3
   },
   "file_extension": ".py",
   "mimetype": "text/x-python",
   "name": "python",
   "nbconvert_exporter": "python",
   "pygments_lexer": "ipython3",
   "version": "3.5.2"
  },
  "toc": {
   "nav_menu": {},
   "number_sections": true,
   "sideBar": true,
   "skip_h1_title": true,
   "toc_cell": false,
   "toc_position": {},
   "toc_section_display": "block",
   "toc_window_display": false
  },
  "varInspector": {
   "cols": {
    "lenName": 16,
    "lenType": 16,
    "lenVar": 40
   },
   "kernels_config": {
    "python": {
     "delete_cmd_postfix": "",
     "delete_cmd_prefix": "del ",
     "library": "var_list.py",
     "varRefreshCmd": "print(var_dic_list())"
    },
    "r": {
     "delete_cmd_postfix": ") ",
     "delete_cmd_prefix": "rm(",
     "library": "var_list.r",
     "varRefreshCmd": "cat(var_dic_list()) "
    }
   },
   "types_to_exclude": [
    "module",
    "function",
    "builtin_function_or_method",
    "instance",
    "_Feature"
   ],
   "window_display": false
  }
 },
 "nbformat": 4,
 "nbformat_minor": 2
}
