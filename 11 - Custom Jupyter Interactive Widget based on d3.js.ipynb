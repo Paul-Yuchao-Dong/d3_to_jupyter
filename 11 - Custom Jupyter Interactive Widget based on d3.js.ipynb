{
 "cells": [
  {
   "cell_type": "code",
   "execution_count": 13,
   "metadata": {
    "collapsed": true
   },
   "outputs": [],
   "source": [
    "import ipywidgets as widgets\n",
    "from traitlets import Unicode, List, Int"
   ]
  },
  {
   "cell_type": "code",
   "execution_count": 14,
   "metadata": {
    "collapsed": false
   },
   "outputs": [
    {
     "data": {
      "text/plain": [
       "'7.0.0'"
      ]
     },
     "execution_count": 14,
     "metadata": {},
     "output_type": "execute_result"
    }
   ],
   "source": [
    "widgets.__version__"
   ]
  },
  {
   "cell_type": "markdown",
   "metadata": {},
   "source": [
    "# Example from http://bl.ocks.org/mbostock/4060366\n",
    "# The above link has changed to v4 saved a slightly modified version in the same folder as index.html\n",
    "http://bl.ocks.org/shawnbot/8059739"
   ]
  },
  {
   "cell_type": "code",
   "execution_count": 15,
   "metadata": {
    "collapsed": false
   },
   "outputs": [
    {
     "data": {
      "application/javascript": [
       "\n",
       "var s = document.createElement(\"style\");\n",
       "s.innerHTML = `\n",
       "body {\n",
       "  overflow: hidden;\n",
       "}\n",
       "\n",
       "path {\n",
       "      fill-opacity: .8;\n",
       "      stroke: #000;\n",
       "}\n",
       "\n",
       "path:first-child {\n",
       "  fill: yellow !important;\n",
       "}\n",
       "\n",
       "circle {\n",
       "      fill: #fff;\n",
       "      stroke: #000;\n",
       "      pointer-events: none;\n",
       "}\n",
       "\n",
       "    .PiYG .q0-9{fill:rgb(197,27,125)}\n",
       "    .PiYG .q1-9{fill:rgb(222,119,174)}\n",
       "    .PiYG .q2-9{fill:rgb(241,182,218)}\n",
       "    .PiYG .q3-9{fill:rgb(253,224,239)}\n",
       "    .PiYG .q4-9{fill:rgb(247,247,247)}\n",
       "    .PiYG .q5-9{fill:rgb(230,245,208)}\n",
       "    .PiYG .q6-9{fill:rgb(184,225,134)}\n",
       "    .PiYG .q7-9{fill:rgb(127,188,65)}\n",
       "    .PiYG .q8-9{fill:rgb(77,146,33)}\n",
       "`;\n",
       "document.getElementsByTagName(\"head\")[0].appendChild(s);"
      ],
      "text/plain": [
       "<IPython.core.display.Javascript object>"
      ]
     },
     "metadata": {},
     "output_type": "display_data"
    }
   ],
   "source": [
    "%%javascript\n",
    "\n",
    "var s = document.createElement(\"style\");\n",
    "s.innerHTML = `\n",
    "body {\n",
    "  overflow: hidden;\n",
    "}\n",
    "\n",
    "path {\n",
    "      fill-opacity: .8;\n",
    "      stroke: #000;\n",
    "}\n",
    "\n",
    "path:first-child {\n",
    "  fill: yellow !important;\n",
    "}\n",
    "\n",
    "circle {\n",
    "      fill: #fff;\n",
    "      stroke: #000;\n",
    "      pointer-events: none;\n",
    "}\n",
    "\n",
    "    .PiYG .q0-9{fill:rgb(197,27,125)}\n",
    "    .PiYG .q1-9{fill:rgb(222,119,174)}\n",
    "    .PiYG .q2-9{fill:rgb(241,182,218)}\n",
    "    .PiYG .q3-9{fill:rgb(253,224,239)}\n",
    "    .PiYG .q4-9{fill:rgb(247,247,247)}\n",
    "    .PiYG .q5-9{fill:rgb(230,245,208)}\n",
    "    .PiYG .q6-9{fill:rgb(184,225,134)}\n",
    "    .PiYG .q7-9{fill:rgb(127,188,65)}\n",
    "    .PiYG .q8-9{fill:rgb(77,146,33)}\n",
    "`;\n",
    "document.getElementsByTagName(\"head\")[0].appendChild(s);"
   ]
  },
  {
   "cell_type": "code",
   "execution_count": 16,
   "metadata": {
    "collapsed": true
   },
   "outputs": [],
   "source": [
    "class MyD3(widgets.DOMWidget):\n",
    "    _view_name = Unicode('D3View').tag(sync=True)\n",
    "    _view_module = Unicode('myd3').tag(sync=True)\n",
    "    width = Int().tag(sync=True)\n",
    "    height = Int().tag(sync=True)\n",
    "    vertices = List().tag(sync=True)"
   ]
  },
  {
   "cell_type": "code",
   "execution_count": 75,
   "metadata": {
    "collapsed": false
   },
   "outputs": [
    {
     "data": {
      "application/javascript": [
       "require.undef('myd3');\n",
       "\n",
       "define('myd3', [\"@jupyter-widgets/base\", //revised after upgrade to ipywidget 7.0s\n",
       "                \"http://d3js.org/d3.v3.min.js\"], function(widgets, d3) {\n",
       "    \n",
       "    var D3View = widgets.DOMWidgetView.extend({\n",
       "        \n",
       "        render: function() {\n",
       "                      \n",
       "            var that = this;\n",
       "            \n",
       "            var width = this.model.get('width'),\n",
       "                height = this.model.get('height'); //     var width = 960,height = 480;\n",
       "            that.vertices = this.model.get('vertices'); //Math.random\n",
       "            \n",
       "            that.voronoi = d3.geom.voronoi()\n",
       "                .clipExtent([[0, 0], [width, height]]);\n",
       "            /*\n",
       "            var voronoi = d3.geom.voronoi()\n",
       "                .clipExtent([[0, 0], [width, height]]);\n",
       "            */\n",
       "\n",
       "            var svg = d3.select(this.el).append(\"svg\") //var svg = d3.select(\"body\").append(\"svg\")\n",
       "                .attr(\"width\", width)                  //.attr(\"width\", width)\n",
       "                .attr(\"height\", height)                //.attr(\"height\", height)\n",
       "                .attr(\"class\", \"PiYG\")                 //.attr(\"class\", \"PiYG\")\n",
       "                .on(\"mousemove\", function() {          //.on(\"mousemove\", function() { \n",
       "                    that.vertices[0] = d3.mouse(this); //vertices[0] = d3.mouse(this);\n",
       "                    that.redraw();                     //redraw();\n",
       "                });                                    //});\n",
       "            \n",
       "            that.path = svg.append(\"g\").selectAll(\"path\"); //var path = svg.append(\"g\").selectAll(\"path\");\n",
       "\n",
       "            that.line = d3.svg.line();                  //    var line = d3.svg.line();\n",
       "            \n",
       "            that.line.interpolate(\"linear\");            //    line.interpolate(select.property(\"value\"));\n",
       "            \n",
       "            that.circle = svg.append(\"g\").selectAll(\"circle\");  // None\n",
       "            that.model.on('change:vertices', that.update_vertices, this);\n",
       "            that.redraw();\n",
       "        },\n",
       "        \n",
       "        update_vertices: function() {\n",
       "            this.redraw();\n",
       "        },\n",
       "        \n",
       "        redraw: function () {\n",
       "          var that=this;\n",
       "            \n",
       "          this.vertices = this.model.get('vertices');\n",
       "          //redraw the lines\n",
       "          this.path = this.path\n",
       "                          .data(this.voronoi(this.vertices), String);\n",
       "          //path = path.data(voronoi(vertices), String);\n",
       "          this.path.exit().remove(); //path.exit().remove();\n",
       "            \n",
       "          this.path.enter().append(\"path\") //path.enter().append(\"path\")\n",
       "              .attr(\"class\", function(d, i) { return \"q\" + (i % 9) + \"-9\"; }) //.attr(\"class\", function(d, i) { return \"q\" + (i % 9) + \"-9\"; });\n",
       "              .attr(\"d\", function(d){  // path.attr(\"d\", function(d) {\n",
       "                return that.line(d)+'Z'; //return line(d) + \"Z\";\n",
       "          });\n",
       "          \n",
       "          //this.path.order(); //      path.order();\n",
       "            \n",
       "          //redraw the circles  \n",
       "\n",
       "          this.circle = this.circle.data([]);\n",
       "          this.circle.exit().remove();         \n",
       "          this.circle = this.circle\n",
       "                            .data(this.vertices.slice(1));   \n",
       "\n",
       "          this.circle.enter().append(\"circle\")\n",
       "                .attr(\"transform\", function(d) { \n",
       "                        return \"translate(\" + d + \")\"; \n",
       "                        })\n",
       "                .attr(\"r\", 2);\n",
       "        },        \n",
       "    });\n",
       "    \n",
       "    return {\n",
       "        D3View : D3View\n",
       "    };\n",
       "});"
      ],
      "text/plain": [
       "<IPython.core.display.Javascript object>"
      ]
     },
     "metadata": {},
     "output_type": "display_data"
    }
   ],
   "source": [
    "%%javascript\n",
    "require.undef('myd3');\n",
    "\n",
    "define('myd3', [\"@jupyter-widgets/base\", //revised after upgrade to ipywidget 7.0s\n",
    "                \"http://d3js.org/d3.v3.min.js\"], function(widgets, d3) {\n",
    "    \n",
    "    var D3View = widgets.DOMWidgetView.extend({\n",
    "        \n",
    "        render: function() {\n",
    "                      \n",
    "            var that = this;\n",
    "            \n",
    "            var width = this.model.get('width'),\n",
    "                height = this.model.get('height'); //     var width = 960,height = 480;\n",
    "            that.vertices = this.model.get('vertices'); //Math.random\n",
    "            \n",
    "            that.voronoi = d3.geom.voronoi()\n",
    "                .clipExtent([[0, 0], [width, height]]);\n",
    "            /*\n",
    "            var voronoi = d3.geom.voronoi()\n",
    "                .clipExtent([[0, 0], [width, height]]);\n",
    "            */\n",
    "\n",
    "            var svg = d3.select(this.el).append(\"svg\") //var svg = d3.select(\"body\").append(\"svg\")\n",
    "                .attr(\"width\", width)                  //.attr(\"width\", width)\n",
    "                .attr(\"height\", height)                //.attr(\"height\", height)\n",
    "                .attr(\"class\", \"PiYG\")                 //.attr(\"class\", \"PiYG\")\n",
    "                .on(\"mousemove\", function() {          //.on(\"mousemove\", function() { \n",
    "                    that.vertices[0] = d3.mouse(this); //vertices[0] = d3.mouse(this);\n",
    "                    that.redraw();                     //redraw();\n",
    "                });                                    //});\n",
    "            \n",
    "            that.path = svg.append(\"g\").selectAll(\"path\"); //var path = svg.append(\"g\").selectAll(\"path\");\n",
    "\n",
    "            that.line = d3.svg.line();                  //    var line = d3.svg.line();\n",
    "            \n",
    "            that.line.interpolate(\"linear\");            //    line.interpolate(select.property(\"value\"));\n",
    "            \n",
    "            that.circle = svg.append(\"g\").selectAll(\"circle\");  // None\n",
    "            that.model.on('change:vertices', that.update_vertices, this);\n",
    "            that.redraw();\n",
    "        },\n",
    "        \n",
    "        update_vertices: function() {\n",
    "            this.redraw();\n",
    "        },\n",
    "        \n",
    "        redraw: function () {\n",
    "          var that=this;\n",
    "            \n",
    "          this.vertices = this.model.get('vertices');\n",
    "          //redraw the lines\n",
    "          this.path = this.path\n",
    "                          .data(this.voronoi(this.vertices), String);\n",
    "          //path = path.data(voronoi(vertices), String);\n",
    "          this.path.exit().remove(); //path.exit().remove();\n",
    "            \n",
    "          this.path.enter().append(\"path\") //path.enter().append(\"path\")\n",
    "              .attr(\"class\", function(d, i) { return \"q\" + (i % 9) + \"-9\"; }) //.attr(\"class\", function(d, i) { return \"q\" + (i % 9) + \"-9\"; });\n",
    "              .attr(\"d\", function(d){  // path.attr(\"d\", function(d) {\n",
    "                return that.line(d)+'Z'; //return line(d) + \"Z\";\n",
    "          });\n",
    "          \n",
    "          //this.path.order(); //      path.order();\n",
    "            \n",
    "          //redraw the circles  \n",
    "\n",
    "          this.circle = this.circle.data([]);\n",
    "          this.circle.exit().remove();         \n",
    "          this.circle = this.circle\n",
    "                            .data(this.vertices.slice(1));   \n",
    "\n",
    "          this.circle.enter().append(\"circle\")\n",
    "                .attr(\"transform\", function(d) { \n",
    "                        return \"translate(\" + d + \")\"; \n",
    "                        })\n",
    "                .attr(\"r\", 2);\n",
    "        },        \n",
    "    });\n",
    "    \n",
    "    return {\n",
    "        D3View : D3View\n",
    "    };\n",
    "});"
   ]
  },
  {
   "cell_type": "code",
   "execution_count": 76,
   "metadata": {
    "collapsed": false
   },
   "outputs": [
    {
     "data": {
      "application/vnd.jupyter.widget-view+json": {
       "model_id": "a92ba06c9c434fcf85a0c004d80f973c",
       "version_major": 2,
       "version_minor": 0
      },
      "text/plain": [
       "A Jupyter Widget"
      ]
     },
     "metadata": {},
     "output_type": "display_data"
    }
   ],
   "source": [
    "import numpy as np\n",
    "sample_size = 100\n",
    "width = 750\n",
    "height = 300\n",
    "\n",
    "m = MyD3(vertices=(np.random.rand(sample_size, 2) * np.array([width, height])).tolist(),\n",
    "     height=height, width=width)\n",
    "m"
   ]
  },
  {
   "cell_type": "code",
   "execution_count": 79,
   "metadata": {
    "collapsed": true
   },
   "outputs": [],
   "source": [
    "m.vertices = (np.random.rand(sample_size, 2) * np.array([width, height])).tolist()"
   ]
  },
  {
   "cell_type": "code",
   "execution_count": null,
   "metadata": {
    "collapsed": true
   },
   "outputs": [],
   "source": []
  },
  {
   "cell_type": "code",
   "execution_count": null,
   "metadata": {
    "collapsed": true
   },
   "outputs": [],
   "source": []
  }
 ],
 "metadata": {
  "kernelspec": {
   "display_name": "Python [default]",
   "language": "python",
   "name": "python3"
  },
  "language_info": {
   "codemirror_mode": {
    "name": "ipython",
    "version": 3
   },
   "file_extension": ".py",
   "mimetype": "text/x-python",
   "name": "python",
   "nbconvert_exporter": "python",
   "pygments_lexer": "ipython3",
   "version": "3.5.2"
  },
  "toc": {
   "nav_menu": {},
   "number_sections": true,
   "sideBar": true,
   "skip_h1_title": false,
   "toc_cell": false,
   "toc_position": {},
   "toc_section_display": "block",
   "toc_window_display": false
  },
  "varInspector": {
   "cols": {
    "lenName": 16,
    "lenType": 16,
    "lenVar": 40
   },
   "kernels_config": {
    "python": {
     "delete_cmd_postfix": "",
     "delete_cmd_prefix": "del ",
     "library": "var_list.py",
     "varRefreshCmd": "print(var_dic_list())"
    },
    "r": {
     "delete_cmd_postfix": ") ",
     "delete_cmd_prefix": "rm(",
     "library": "var_list.r",
     "varRefreshCmd": "cat(var_dic_list()) "
    }
   },
   "types_to_exclude": [
    "module",
    "function",
    "builtin_function_or_method",
    "instance",
    "_Feature"
   ],
   "window_display": false
  },
  "widgets": {
   "state": {
    "db0f15e2a3eb4e6e8f182bdfc1ab09f1": {
     "views": [
      {
       "cell_index": 5
      }
     ]
    }
   },
   "version": "2.0.0-dev"
  }
 },
 "nbformat": 4,
 "nbformat_minor": 1
}
