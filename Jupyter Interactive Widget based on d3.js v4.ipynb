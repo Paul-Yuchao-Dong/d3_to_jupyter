{
 "cells": [
  {
   "cell_type": "code",
   "execution_count": 1,
   "metadata": {
    "collapsed": true
   },
   "outputs": [],
   "source": [
    "import ipywidgets as widgets\n",
    "from traitlets import Unicode, List, Int"
   ]
  },
  {
   "cell_type": "code",
   "execution_count": 2,
   "metadata": {
    "collapsed": false
   },
   "outputs": [
    {
     "data": {
      "text/plain": [
       "'7.0.0'"
      ]
     },
     "execution_count": 2,
     "metadata": {},
     "output_type": "execute_result"
    }
   ],
   "source": [
    "widgets.__version__"
   ]
  },
  {
   "cell_type": "markdown",
   "metadata": {},
   "source": [
    "# Example from http://bl.ocks.org/mbostock/4060366\n",
    "# The above link has changed to v4 saved a slightly modified version in the same folder as index.html\n",
    "http://bl.ocks.org/shawnbot/8059739"
   ]
  },
  {
   "cell_type": "code",
   "execution_count": 3,
   "metadata": {
    "collapsed": false
   },
   "outputs": [
    {
     "data": {
      "application/javascript": [
       "\n",
       "var s = document.createElement(\"style\");\n",
       "s.innerHTML = `\n",
       ".links {\n",
       "  stroke: #000;\n",
       "  stroke-opacity: 0.2;\n",
       "}\n",
       "\n",
       ".polygons {\n",
       "  fill: none;\n",
       "  stroke: #000;\n",
       "}\n",
       "\n",
       ".polygons :first-child {\n",
       "  fill: #f00;\n",
       "}\n",
       "\n",
       ".sites {\n",
       "  fill: #000;\n",
       "  stroke: #fff;\n",
       "}\n",
       "\n",
       ".sites :first-child {\n",
       "  fill: #fff;\n",
       "}\n",
       "`;\n",
       "document.getElementsByTagName(\"head\")[0].appendChild(s);"
      ],
      "text/plain": [
       "<IPython.core.display.Javascript object>"
      ]
     },
     "metadata": {},
     "output_type": "display_data"
    }
   ],
   "source": [
    "%%javascript\n",
    "\n",
    "var s = document.createElement(\"style\");\n",
    "s.innerHTML = `\n",
    ".links {\n",
    "  stroke: #000;\n",
    "  stroke-opacity: 0.2;\n",
    "}\n",
    "\n",
    ".polygons {\n",
    "  fill: none;\n",
    "  stroke: #000;\n",
    "}\n",
    "\n",
    ".polygons :first-child {\n",
    "  fill: #f00;\n",
    "}\n",
    "\n",
    ".sites {\n",
    "  fill: #000;\n",
    "  stroke: #fff;\n",
    "}\n",
    "\n",
    ".sites :first-child {\n",
    "  fill: #fff;\n",
    "}\n",
    "`;\n",
    "document.getElementsByTagName(\"head\")[0].appendChild(s);"
   ]
  },
  {
   "cell_type": "code",
   "execution_count": 4,
   "metadata": {
    "collapsed": true
   },
   "outputs": [],
   "source": [
    "class MyD3(widgets.DOMWidget):\n",
    "    _view_name = Unicode('D3View').tag(sync=True)\n",
    "    _view_module = Unicode('myd3').tag(sync=True)\n",
    "    width = Int().tag(sync=True)\n",
    "    height = Int().tag(sync=True)\n",
    "    vertices = List().tag(sync=True)"
   ]
  },
  {
   "cell_type": "code",
   "execution_count": 8,
   "metadata": {
    "collapsed": false
   },
   "outputs": [
    {
     "data": {
      "application/javascript": [
       "require.undef('myd3');\n",
       "\n",
       "define('myd3', [\"@jupyter-widgets/base\", //revised after upgrade to ipywidget 7.0s\n",
       "                \"https://d3js.org/d3.v4.min.js\"], function(widgets, d3) {\n",
       "\n",
       "    var D3View = widgets.DOMWidgetView.extend({\n",
       "\n",
       "        render: function() {\n",
       "\n",
       "            var that = this;\n",
       "\n",
       "            var width = this.model.get('width'),\n",
       "                height = this.model.get('height');\n",
       "\n",
       "            that.sites = this.model.get('vertices');             \n",
       "            that.svg = d3.select(this.el).append(\"svg\")\n",
       "                                         .attr(\"width\", width)\n",
       "                                         .attr(\"height\", height)\n",
       "                                         .on(\"touchmove mousemove\", function(){\n",
       "                                                                        that.sites[0] = d3.mouse(this); \n",
       "                                                                        that.redraw();\n",
       "                                                                            });\n",
       "\n",
       "\n",
       "            that.voronoi = d3.voronoi().extent([[-1, -1], [width + 1, height + 1]]);\n",
       "            that.polygon = that.svg.append(\"g\")\n",
       "                                    .attr(\"class\", \"polygons\")\n",
       "                                  .selectAll(\"path\")\n",
       "                                  .data(that.voronoi.polygons(that.sites))\n",
       "                                  .enter().append(\"path\")\n",
       "                                    .call(that.redrawPolygon);\n",
       "\n",
       "            that.link = that.svg.append(\"g\")\n",
       "                                .attr(\"class\", \"links\")\n",
       "                              .selectAll(\"line\")\n",
       "                              .data(that.voronoi.links(that.sites))\n",
       "                              .enter().append(\"line\")\n",
       "                                .call(that.redrawLink);\n",
       "\n",
       "            that.site = that.svg.append(\"g\")\n",
       "                                .attr(\"class\", \"sites\")\n",
       "                              .selectAll(\"circle\")\n",
       "                              .data(that.sites)\n",
       "                              .enter().append(\"circle\")\n",
       "                                .attr(\"r\", 2.5)\n",
       "                                .call(that.redrawSite);            \n",
       "            that.model.on('change:vertices', that.redraw, this);\n",
       "            that.redraw();\n",
       "        },\n",
       "\n",
       "        redraw: function() {\n",
       "          this.sites = this.model.get('vertices');\n",
       "          var diagram = this.voronoi(this.sites);\n",
       "          this.polygon = this.polygon.data(diagram.polygons()).call(this.redrawPolygon);\n",
       "          this.link = this.link.data(diagram.links());\n",
       "          this.link.exit().remove();\n",
       "          this.link = this.link.enter().append(\"line\").merge(this.link).call(this.redrawLink);\n",
       "          this.site = this.site.data(this.sites).call(this.redrawSite);\n",
       "        },\n",
       "\n",
       "        redrawPolygon: function(polygon) {\n",
       "          polygon\n",
       "              .attr(\"d\", function(d) { return d ? \"M\" + d.join(\"L\") + \"Z\" : null; });\n",
       "        },\n",
       "\n",
       "        redrawLink: function(link) {\n",
       "          link\n",
       "              .attr(\"x1\", function(d) { return d.source[0]; })\n",
       "              .attr(\"y1\", function(d) { return d.source[1]; })\n",
       "              .attr(\"x2\", function(d) { return d.target[0]; })\n",
       "              .attr(\"y2\", function(d) { return d.target[1]; });\n",
       "        },\n",
       "        redrawSite: function(site) {\n",
       "          site\n",
       "              .attr(\"cx\", function(d) { return d[0]; })\n",
       "              .attr(\"cy\", function(d) { return d[1]; });\n",
       "        }\n",
       "\n",
       "    });\n",
       "\n",
       "    return {\n",
       "        D3View : D3View\n",
       "    };\n",
       "});"
      ],
      "text/plain": [
       "<IPython.core.display.Javascript object>"
      ]
     },
     "metadata": {},
     "output_type": "display_data"
    }
   ],
   "source": [
    "%%javascript\n",
    "require.undef('myd3');\n",
    "\n",
    "define('myd3', [\"@jupyter-widgets/base\", //revised after upgrade to ipywidget 7.0s\n",
    "                \"https://d3js.org/d3.v4.min.js\"], function(widgets, d3) {\n",
    "\n",
    "    var D3View = widgets.DOMWidgetView.extend({\n",
    "\n",
    "        render: function() {\n",
    "\n",
    "            var that = this;\n",
    "\n",
    "            var width = this.model.get('width'),\n",
    "                height = this.model.get('height');\n",
    "\n",
    "            that.sites = this.model.get('vertices');             \n",
    "            that.svg = d3.select(this.el).append(\"svg\")\n",
    "                                         .attr(\"width\", width)\n",
    "                                         .attr(\"height\", height)\n",
    "                                         .on(\"touchmove mousemove\", function(){\n",
    "                                                                        that.sites[0] = d3.mouse(this); \n",
    "                                                                        that.redraw();\n",
    "                                                                            });\n",
    "\n",
    "\n",
    "            that.voronoi = d3.voronoi().extent([[-1, -1], [width + 1, height + 1]]);\n",
    "            that.polygon = that.svg.append(\"g\")\n",
    "                                    .attr(\"class\", \"polygons\")\n",
    "                                  .selectAll(\"path\")\n",
    "                                  .data(that.voronoi.polygons(that.sites))\n",
    "                                  .enter().append(\"path\")\n",
    "                                    .call(that.redrawPolygon);\n",
    "\n",
    "            that.link = that.svg.append(\"g\")\n",
    "                                .attr(\"class\", \"links\")\n",
    "                              .selectAll(\"line\")\n",
    "                              .data(that.voronoi.links(that.sites))\n",
    "                              .enter().append(\"line\")\n",
    "                                .call(that.redrawLink);\n",
    "\n",
    "            that.site = that.svg.append(\"g\")\n",
    "                                .attr(\"class\", \"sites\")\n",
    "                              .selectAll(\"circle\")\n",
    "                              .data(that.sites)\n",
    "                              .enter().append(\"circle\")\n",
    "                                .attr(\"r\", 2.5)\n",
    "                                .call(that.redrawSite);            \n",
    "            that.model.on('change:vertices', that.redraw, this);\n",
    "            that.redraw();\n",
    "        },\n",
    "\n",
    "        redraw: function() {\n",
    "          this.sites = this.model.get('vertices');\n",
    "          var diagram = this.voronoi(this.sites);\n",
    "          this.polygon = this.polygon.data(diagram.polygons()).call(this.redrawPolygon);\n",
    "          this.link = this.link.data(diagram.links());\n",
    "          this.link.exit().remove();\n",
    "          this.link = this.link.enter().append(\"line\").merge(this.link).call(this.redrawLink);\n",
    "          this.site = this.site.data(this.sites).call(this.redrawSite);\n",
    "        },\n",
    "\n",
    "        redrawPolygon: function(polygon) {\n",
    "          polygon\n",
    "              .attr(\"d\", function(d) { return d ? \"M\" + d.join(\"L\") + \"Z\" : null; });\n",
    "        },\n",
    "\n",
    "        redrawLink: function(link) {\n",
    "          link\n",
    "              .attr(\"x1\", function(d) { return d.source[0]; })\n",
    "              .attr(\"y1\", function(d) { return d.source[1]; })\n",
    "              .attr(\"x2\", function(d) { return d.target[0]; })\n",
    "              .attr(\"y2\", function(d) { return d.target[1]; });\n",
    "        },\n",
    "        redrawSite: function(site) {\n",
    "          site\n",
    "              .attr(\"cx\", function(d) { return d[0]; })\n",
    "              .attr(\"cy\", function(d) { return d[1]; });\n",
    "        }\n",
    "\n",
    "    });\n",
    "\n",
    "    return {\n",
    "        D3View : D3View\n",
    "    };\n",
    "});"
   ]
  },
  {
   "cell_type": "code",
   "execution_count": 9,
   "metadata": {
    "collapsed": false
   },
   "outputs": [
    {
     "data": {
      "application/vnd.jupyter.widget-view+json": {
       "model_id": "fe4b913a1bd34e57a2cd49e3943254de",
       "version_major": 2,
       "version_minor": 0
      },
      "text/plain": [
       "A Jupyter Widget"
      ]
     },
     "metadata": {},
     "output_type": "display_data"
    }
   ],
   "source": [
    "import numpy as np\n",
    "sample_size = 100\n",
    "width = 750\n",
    "height = 300\n",
    "\n",
    "m = MyD3(vertices=(np.random.rand(sample_size, 2) * np.array([width, height])).tolist(),\n",
    "     height=height, width=width)\n",
    "m"
   ]
  },
  {
   "cell_type": "code",
   "execution_count": 12,
   "metadata": {
    "collapsed": true
   },
   "outputs": [],
   "source": [
    "m.vertices = (np.random.rand(sample_size, 2) * np.array([width, height])).tolist()"
   ]
  },
  {
   "cell_type": "code",
   "execution_count": null,
   "metadata": {
    "collapsed": true
   },
   "outputs": [],
   "source": []
  },
  {
   "cell_type": "code",
   "execution_count": null,
   "metadata": {
    "collapsed": true
   },
   "outputs": [],
   "source": []
  }
 ],
 "metadata": {
  "kernelspec": {
   "display_name": "Python [default]",
   "language": "python",
   "name": "python3"
  },
  "language_info": {
   "codemirror_mode": {
    "name": "ipython",
    "version": 3
   },
   "file_extension": ".py",
   "mimetype": "text/x-python",
   "name": "python",
   "nbconvert_exporter": "python",
   "pygments_lexer": "ipython3",
   "version": "3.5.2"
  },
  "toc": {
   "nav_menu": {},
   "number_sections": true,
   "sideBar": true,
   "skip_h1_title": false,
   "toc_cell": false,
   "toc_position": {},
   "toc_section_display": "block",
   "toc_window_display": false
  },
  "varInspector": {
   "cols": {
    "lenName": 16,
    "lenType": 16,
    "lenVar": 40
   },
   "kernels_config": {
    "python": {
     "delete_cmd_postfix": "",
     "delete_cmd_prefix": "del ",
     "library": "var_list.py",
     "varRefreshCmd": "print(var_dic_list())"
    },
    "r": {
     "delete_cmd_postfix": ") ",
     "delete_cmd_prefix": "rm(",
     "library": "var_list.r",
     "varRefreshCmd": "cat(var_dic_list()) "
    }
   },
   "types_to_exclude": [
    "module",
    "function",
    "builtin_function_or_method",
    "instance",
    "_Feature"
   ],
   "window_display": false
  },
  "widgets": {
   "state": {
    "db0f15e2a3eb4e6e8f182bdfc1ab09f1": {
     "views": [
      {
       "cell_index": 5
      }
     ]
    }
   },
   "version": "2.0.0-dev"
  }
 },
 "nbformat": 4,
 "nbformat_minor": 1
}
