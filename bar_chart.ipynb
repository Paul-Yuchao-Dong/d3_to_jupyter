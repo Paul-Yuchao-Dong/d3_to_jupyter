{
 "cells": [
  {
   "cell_type": "code",
   "execution_count": 1,
   "metadata": {
    "collapsed": true
   },
   "outputs": [],
   "source": [
    "import ipywidgets as widgets\n",
    "from traitlets import Unicode, List, Int"
   ]
  },
  {
   "cell_type": "code",
   "execution_count": 2,
   "metadata": {
    "collapsed": false
   },
   "outputs": [
    {
     "data": {
      "text/plain": [
       "'7.0.0'"
      ]
     },
     "execution_count": 2,
     "metadata": {},
     "output_type": "execute_result"
    }
   ],
   "source": [
    "widgets.__version__"
   ]
  },
  {
   "cell_type": "markdown",
   "metadata": {},
   "source": [
    "# Example from https://bl.ocks.org/mbostock/3885304\n"
   ]
  },
  {
   "cell_type": "code",
   "execution_count": 3,
   "metadata": {
    "collapsed": false
   },
   "outputs": [
    {
     "data": {
      "application/javascript": [
       "\n",
       "var s = document.createElement(\"style\");\n",
       "s.innerHTML = `\n",
       ".bar {\n",
       "  fill: steelblue;\n",
       "}\n",
       "\n",
       ".bar:hover {\n",
       "  fill: brown;\n",
       "}\n",
       "\n",
       ".axis--x path {\n",
       "  display: none;\n",
       "}\n",
       "`;\n",
       "document.getElementsByTagName(\"head\")[0].appendChild(s);"
      ],
      "text/plain": [
       "<IPython.core.display.Javascript object>"
      ]
     },
     "metadata": {},
     "output_type": "display_data"
    }
   ],
   "source": [
    "%%javascript\n",
    "\n",
    "var s = document.createElement(\"style\");\n",
    "s.innerHTML = `\n",
    ".bar {\n",
    "  fill: steelblue;\n",
    "}\n",
    "\n",
    ".bar:hover {\n",
    "  fill: brown;\n",
    "}\n",
    "\n",
    ".axis--x path {\n",
    "  display: none;\n",
    "}\n",
    "`;\n",
    "document.getElementsByTagName(\"head\")[0].appendChild(s);"
   ]
  },
  {
   "cell_type": "code",
   "execution_count": 4,
   "metadata": {
    "collapsed": true
   },
   "outputs": [],
   "source": [
    "class MyD3(widgets.DOMWidget):\n",
    "    _view_name = Unicode('D3View').tag(sync=True)\n",
    "    _view_module = Unicode('myd3').tag(sync=True)\n",
    "    width = Int().tag(sync=True)\n",
    "    height = Int().tag(sync=True)\n",
    "    vertices = List().tag(sync=True)"
   ]
  },
  {
   "cell_type": "code",
   "execution_count": 4,
   "metadata": {
    "collapsed": true
   },
   "outputs": [],
   "source": [
    "from io import StringIO\n",
    "import pandas as pd\n"
   ]
  },
  {
   "cell_type": "code",
   "execution_count": 17,
   "metadata": {
    "collapsed": false
   },
   "outputs": [],
   "source": [
    "text = StringIO(\"\"\"\n",
    "letter\tfrequency\n",
    "A\t.08167\n",
    "B\t.01492\n",
    "C\t.02782\n",
    "D\t.04253\n",
    "E\t.12702\n",
    "F\t.02288\n",
    "G\t.02015\n",
    "H\t.06094\n",
    "I\t.06966\n",
    "J\t.00153\n",
    "K\t.00772\n",
    "L\t.04025\n",
    "M\t.02406\n",
    "N\t.06749\n",
    "O\t.07507\n",
    "P\t.01929\n",
    "Q\t.00095\n",
    "R\t.05987\n",
    "S\t.06327\n",
    "T\t.09056\n",
    "U\t.02758\n",
    "V\t.00978\n",
    "W\t.02360\n",
    "X\t.00150\n",
    "Y\t.01974\n",
    "Z\t.00074\n",
    "\"\"\")"
   ]
  },
  {
   "cell_type": "code",
   "execution_count": 18,
   "metadata": {
    "collapsed": false
   },
   "outputs": [],
   "source": [
    "df = pd.read_table(text)"
   ]
  },
  {
   "cell_type": "code",
   "execution_count": 19,
   "metadata": {
    "collapsed": false
   },
   "outputs": [
    {
     "data": {
      "text/html": [
       "<div>\n",
       "<table border=\"1\" class=\"dataframe\">\n",
       "  <thead>\n",
       "    <tr style=\"text-align: right;\">\n",
       "      <th></th>\n",
       "      <th>letter</th>\n",
       "      <th>frequency</th>\n",
       "    </tr>\n",
       "  </thead>\n",
       "  <tbody>\n",
       "    <tr>\n",
       "      <th>0</th>\n",
       "      <td>A</td>\n",
       "      <td>0.08167</td>\n",
       "    </tr>\n",
       "    <tr>\n",
       "      <th>1</th>\n",
       "      <td>B</td>\n",
       "      <td>0.01492</td>\n",
       "    </tr>\n",
       "    <tr>\n",
       "      <th>2</th>\n",
       "      <td>C</td>\n",
       "      <td>0.02782</td>\n",
       "    </tr>\n",
       "    <tr>\n",
       "      <th>3</th>\n",
       "      <td>D</td>\n",
       "      <td>0.04253</td>\n",
       "    </tr>\n",
       "    <tr>\n",
       "      <th>4</th>\n",
       "      <td>E</td>\n",
       "      <td>0.12702</td>\n",
       "    </tr>\n",
       "  </tbody>\n",
       "</table>\n",
       "</div>"
      ],
      "text/plain": [
       "  letter  frequency\n",
       "0      A    0.08167\n",
       "1      B    0.01492\n",
       "2      C    0.02782\n",
       "3      D    0.04253\n",
       "4      E    0.12702"
      ]
     },
     "execution_count": 19,
     "metadata": {},
     "output_type": "execute_result"
    }
   ],
   "source": [
    "df.head()"
   ]
  },
  {
   "cell_type": "code",
   "execution_count": 8,
   "metadata": {
    "collapsed": false
   },
   "outputs": [
    {
     "data": {
      "application/javascript": [
       "require.undef('myd3');\n",
       "\n",
       "define('myd3', [\"@jupyter-widgets/base\", //revised after upgrade to ipywidget 7.0s\n",
       "                \"https://d3js.org/d3.v4.min.js\"], function(widgets, d3) {\n",
       "\n",
       "    var D3View = widgets.DOMWidgetView.extend({\n",
       "\n",
       "        render: function() {\n",
       "\n",
       "            var that = this;\n",
       "\n",
       "            var width = this.model.get('width'),\n",
       "                height = this.model.get('height');\n",
       "\n",
       "            that.sites = this.model.get('vertices');             \n",
       "            that.svg = d3.select(this.el).append(\"svg\")\n",
       "                                         .attr(\"width\", width)\n",
       "                                         .attr(\"height\", height)\n",
       "                                         .on(\"touchmove mousemove\", function(){\n",
       "                                                                        that.sites[0] = d3.mouse(this); \n",
       "                                                                        that.redraw();\n",
       "                                                                            });\n",
       "\n",
       "\n",
       "            that.voronoi = d3.voronoi().extent([[-1, -1], [width + 1, height + 1]]);\n",
       "            that.polygon = that.svg.append(\"g\")\n",
       "                                    .attr(\"class\", \"polygons\")\n",
       "                                  .selectAll(\"path\")\n",
       "                                  .data(that.voronoi.polygons(that.sites))\n",
       "                                  .enter().append(\"path\")\n",
       "                                    .call(that.redrawPolygon);\n",
       "\n",
       "            that.link = that.svg.append(\"g\")\n",
       "                                .attr(\"class\", \"links\")\n",
       "                              .selectAll(\"line\")\n",
       "                              .data(that.voronoi.links(that.sites))\n",
       "                              .enter().append(\"line\")\n",
       "                                .call(that.redrawLink);\n",
       "\n",
       "            that.site = that.svg.append(\"g\")\n",
       "                                .attr(\"class\", \"sites\")\n",
       "                              .selectAll(\"circle\")\n",
       "                              .data(that.sites)\n",
       "                              .enter().append(\"circle\")\n",
       "                                .attr(\"r\", 2.5)\n",
       "                                .call(that.redrawSite);            \n",
       "            that.model.on('change:vertices', that.redraw, this);\n",
       "            that.redraw();\n",
       "        },\n",
       "\n",
       "        redraw: function() {\n",
       "          this.sites = this.model.get('vertices');\n",
       "          var diagram = this.voronoi(this.sites);\n",
       "          this.polygon = this.polygon.data(diagram.polygons()).call(this.redrawPolygon);\n",
       "          this.link = this.link.data(diagram.links());\n",
       "          this.link.exit().remove();\n",
       "          this.link = this.link.enter().append(\"line\").merge(this.link).call(this.redrawLink);\n",
       "          this.site = this.site.data(this.sites).call(this.redrawSite);\n",
       "        },\n",
       "\n",
       "        redrawPolygon: function(polygon) {\n",
       "          polygon\n",
       "              .attr(\"d\", function(d) { return d ? \"M\" + d.join(\"L\") + \"Z\" : null; });\n",
       "        },\n",
       "\n",
       "        redrawLink: function(link) {\n",
       "          link\n",
       "              .attr(\"x1\", function(d) { return d.source[0]; })\n",
       "              .attr(\"y1\", function(d) { return d.source[1]; })\n",
       "              .attr(\"x2\", function(d) { return d.target[0]; })\n",
       "              .attr(\"y2\", function(d) { return d.target[1]; });\n",
       "        },\n",
       "        redrawSite: function(site) {\n",
       "          site\n",
       "              .attr(\"cx\", function(d) { return d[0]; })\n",
       "              .attr(\"cy\", function(d) { return d[1]; });\n",
       "        }\n",
       "\n",
       "    });\n",
       "\n",
       "    return {\n",
       "        D3View : D3View\n",
       "    };\n",
       "});"
      ],
      "text/plain": [
       "<IPython.core.display.Javascript object>"
      ]
     },
     "metadata": {},
     "output_type": "display_data"
    }
   ],
   "source": [
    "%%javascript\n",
    "require.undef('myd3');\n",
    "\n",
    "define('myd3', [\"@jupyter-widgets/base\", //revised after upgrade to ipywidget 7.0s\n",
    "                \"https://d3js.org/d3.v4.min.js\"], function(widgets, d3) {\n",
    "\n",
    "    var D3View = widgets.DOMWidgetView.extend({\n",
    "\n",
    "        render: function() {\n",
    "\n",
    "            var that = this;\n",
    "\n",
    "            var width = this.model.get('width'),\n",
    "                height = this.model.get('height');\n",
    "\n",
    "            that.sites = this.model.get('vertices');    \n",
    "            that.svg = d3.select(this.el).append(\"svg\")\n",
    "                                         .attr(\"width\", width)\n",
    "                                         .attr(\"height\", height)\n",
    "            \n",
    "            var margin = {top: 20, right: 20, bottom: 30, left: 40};\n",
    "            width = width - margin.left - margin.right;\n",
    "            height = height - margin.top - margin.bottom;\n",
    "            \n",
    "            var x = d3.scaleBand().rangeRound([0, width]).padding(0.1),\n",
    "                y = d3.scaleLinear().rangeRound([height, 0]);\n",
    "\n",
    "            var g = svg.append(\"g\")\n",
    "                        .attr(\"transform\", \"translate(\" + margin.left + \",\" + margin.top + \")\");\n",
    "            \n",
    "            d3.tsv(\"data.tsv\", function(d) {\n",
    "                  d.frequency = +d.frequency;\n",
    "                  return d;\n",
    "                }, function(error, data) {\n",
    "                  if (error) throw error;\n",
    "\n",
    "            that.voronoi = d3.voronoi().extent([[-1, -1], [width + 1, height + 1]]);\n",
    "            that.polygon = that.svg.append(\"g\")\n",
    "                                    .attr(\"class\", \"polygons\")\n",
    "                                  .selectAll(\"path\")\n",
    "                                  .data(that.voronoi.polygons(that.sites))\n",
    "                                  .enter().append(\"path\")\n",
    "                                    .call(that.redrawPolygon);\n",
    "\n",
    "            that.link = that.svg.append(\"g\")\n",
    "                                .attr(\"class\", \"links\")\n",
    "                              .selectAll(\"line\")\n",
    "                              .data(that.voronoi.links(that.sites))\n",
    "                              .enter().append(\"line\")\n",
    "                                .call(that.redrawLink);\n",
    "\n",
    "            that.site = that.svg.append(\"g\")\n",
    "                                .attr(\"class\", \"sites\")\n",
    "                              .selectAll(\"circle\")\n",
    "                              .data(that.sites)\n",
    "                              .enter().append(\"circle\")\n",
    "                                .attr(\"r\", 2.5)\n",
    "                                .call(that.redrawSite);            \n",
    "            that.model.on('change:vertices', that.redraw, this);\n",
    "            that.redraw();\n",
    "        },\n",
    "\n",
    "        redraw: function() {\n",
    "          this.sites = this.model.get('vertices');\n",
    "          var diagram = this.voronoi(this.sites);\n",
    "          this.polygon = this.polygon.data(diagram.polygons()).call(this.redrawPolygon);\n",
    "          this.link = this.link.data(diagram.links());\n",
    "          this.link.exit().remove();\n",
    "          this.link = this.link.enter().append(\"line\").merge(this.link).call(this.redrawLink);\n",
    "          this.site = this.site.data(this.sites).call(this.redrawSite);\n",
    "        },\n",
    "\n",
    "        redrawPolygon: function(polygon) {\n",
    "          polygon\n",
    "              .attr(\"d\", function(d) { return d ? \"M\" + d.join(\"L\") + \"Z\" : null; });\n",
    "        },\n",
    "\n",
    "        redrawLink: function(link) {\n",
    "          link\n",
    "              .attr(\"x1\", function(d) { return d.source[0]; })\n",
    "              .attr(\"y1\", function(d) { return d.source[1]; })\n",
    "              .attr(\"x2\", function(d) { return d.target[0]; })\n",
    "              .attr(\"y2\", function(d) { return d.target[1]; });\n",
    "        },\n",
    "        redrawSite: function(site) {\n",
    "          site\n",
    "              .attr(\"cx\", function(d) { return d[0]; })\n",
    "              .attr(\"cy\", function(d) { return d[1]; });\n",
    "        }\n",
    "\n",
    "    });\n",
    "\n",
    "    return {\n",
    "        D3View : D3View\n",
    "    };\n",
    "});"
   ]
  },
  {
   "cell_type": "code",
   "execution_count": 9,
   "metadata": {
    "collapsed": false
   },
   "outputs": [
    {
     "data": {
      "application/vnd.jupyter.widget-view+json": {
       "model_id": "fe4b913a1bd34e57a2cd49e3943254de",
       "version_major": 2,
       "version_minor": 0
      },
      "text/plain": [
       "A Jupyter Widget"
      ]
     },
     "metadata": {},
     "output_type": "display_data"
    }
   ],
   "source": [
    "import numpy as np\n",
    "sample_size = 100\n",
    "width = 750\n",
    "height = 300\n",
    "\n",
    "m = MyD3(vertices=(np.random.rand(sample_size, 2) * np.array([width, height])).tolist(),\n",
    "     height=height, width=width)\n",
    "m"
   ]
  },
  {
   "cell_type": "code",
   "execution_count": 12,
   "metadata": {
    "collapsed": true
   },
   "outputs": [],
   "source": [
    "m.vertices = (np.random.rand(sample_size, 2) * np.array([width, height])).tolist()"
   ]
  },
  {
   "cell_type": "code",
   "execution_count": null,
   "metadata": {
    "collapsed": true
   },
   "outputs": [],
   "source": []
  },
  {
   "cell_type": "code",
   "execution_count": null,
   "metadata": {
    "collapsed": true
   },
   "outputs": [],
   "source": []
  }
 ],
 "metadata": {
  "kernelspec": {
   "display_name": "Python [default]",
   "language": "python",
   "name": "python3"
  },
  "language_info": {
   "codemirror_mode": {
    "name": "ipython",
    "version": 3
   },
   "file_extension": ".py",
   "mimetype": "text/x-python",
   "name": "python",
   "nbconvert_exporter": "python",
   "pygments_lexer": "ipython3",
   "version": "3.5.2"
  },
  "toc": {
   "nav_menu": {},
   "number_sections": true,
   "sideBar": true,
   "skip_h1_title": false,
   "toc_cell": false,
   "toc_position": {},
   "toc_section_display": "block",
   "toc_window_display": false
  },
  "varInspector": {
   "cols": {
    "lenName": 16,
    "lenType": 16,
    "lenVar": 40
   },
   "kernels_config": {
    "python": {
     "delete_cmd_postfix": "",
     "delete_cmd_prefix": "del ",
     "library": "var_list.py",
     "varRefreshCmd": "print(var_dic_list())"
    },
    "r": {
     "delete_cmd_postfix": ") ",
     "delete_cmd_prefix": "rm(",
     "library": "var_list.r",
     "varRefreshCmd": "cat(var_dic_list()) "
    }
   },
   "types_to_exclude": [
    "module",
    "function",
    "builtin_function_or_method",
    "instance",
    "_Feature"
   ],
   "window_display": false
  },
  "widgets": {
   "state": {
    "db0f15e2a3eb4e6e8f182bdfc1ab09f1": {
     "views": [
      {
       "cell_index": 5
      }
     ]
    }
   },
   "version": "2.0.0-dev"
  }
 },
 "nbformat": 4,
 "nbformat_minor": 1
}
